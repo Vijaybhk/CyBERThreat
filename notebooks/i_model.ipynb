{
 "cells": [
  {
   "cell_type": "markdown",
   "id": "547e2516-227d-44bd-85ac-9ac1bc8292d1",
   "metadata": {},
   "source": [
    "### Model Training"
   ]
  },
  {
   "cell_type": "code",
   "execution_count": 1,
   "id": "ae79d9a7-c3fc-42df-9ef1-8469f5292f38",
   "metadata": {},
   "outputs": [],
   "source": [
    "import csv\n",
    "import pandas as pd"
   ]
  },
  {
   "cell_type": "code",
   "execution_count": 2,
   "id": "b3b1a34f-3df1-44c3-807c-96d913f88c0b",
   "metadata": {},
   "outputs": [
    {
     "name": "stderr",
     "output_type": "stream",
     "text": [
      "2024-04-21 19:22:51.720362: I tensorflow/core/util/port.cc:110] oneDNN custom operations are on. You may see slightly different numerical results due to floating-point round-off errors from different computation orders. To turn them off, set the environment variable `TF_ENABLE_ONEDNN_OPTS=0`.\n",
      "2024-04-21 19:22:51.769732: I tensorflow/core/platform/cpu_feature_guard.cc:182] This TensorFlow binary is optimized to use available CPU instructions in performance-critical operations.\n",
      "To enable the following instructions: AVX2 AVX512F AVX512_VNNI FMA, in other operations, rebuild TensorFlow with the appropriate compiler flags.\n",
      "2024-04-21 19:22:52.531699: W tensorflow/compiler/tf2tensorrt/utils/py_utils.cc:38] TF-TRT Warning: Could not find TensorRT\n"
     ]
    }
   ],
   "source": [
    "try:\n",
    "    import models\n",
    "except ImportError:\n",
    "    print('Please upload models.py to you current directory')\n",
    "    raise"
   ]
  },
  {
   "cell_type": "code",
   "execution_count": 3,
   "id": "7d9d5896-7a50-4b2f-9b17-78d2a558612e",
   "metadata": {},
   "outputs": [],
   "source": [
    "df = pd.read_pickle(\"./data/cve\")"
   ]
  },
  {
   "cell_type": "code",
   "execution_count": 4,
   "id": "7dee4138-3769-4e2d-b278-d8b2b1dc9571",
   "metadata": {},
   "outputs": [],
   "source": [
    "train = df[:120000]\n",
    "test = df[120000:]"
   ]
  },
  {
   "cell_type": "code",
   "execution_count": 10,
   "id": "da15d4cf-5006-41d9-a36f-93f8936835d8",
   "metadata": {},
   "outputs": [],
   "source": [
    "from models import BERTmodel"
   ]
  },
  {
   "cell_type": "code",
   "execution_count": 11,
   "id": "8a16d164-d862-449a-8236-dc2fd8c2d7dd",
   "metadata": {},
   "outputs": [
    {
     "name": "stdout",
     "output_type": "stream",
     "text": [
      "There are 1 GPU(s) available.\n",
      "We will use the GPU: NVIDIA A100 80GB PCIe\n"
     ]
    }
   ],
   "source": [
    "import torch\n",
    "\n",
    "# If there's a GPU available...\n",
    "if torch.cuda.is_available():    \n",
    "    # Tell PyTorch to use the GPU.    \n",
    "    device = torch.device(\"cuda\")\n",
    "\n",
    "    print('There are %d GPU(s) available.' % torch.cuda.device_count())\n",
    "    print('We will use the GPU:', torch.cuda.get_device_name(0))\n",
    "\n",
    "else:\n",
    "    print('No GPU available, using the CPU instead.')\n",
    "    device = torch.device(\"cpu\")"
   ]
  },
  {
   "cell_type": "code",
   "execution_count": 14,
   "id": "852c1421-d8e4-4858-9f4d-2b15cced5c66",
   "metadata": {},
   "outputs": [],
   "source": [
    "integrity_model = BERTmodel('integrity', train, test)"
   ]
  },
  {
   "cell_type": "code",
   "execution_count": 16,
   "id": "77b0a909-3f78-4954-8e75-3576612d8339",
   "metadata": {},
   "outputs": [
    {
     "name": "stderr",
     "output_type": "stream",
     "text": [
      "Some weights of the model checkpoint at bert-base-uncased were not used when initializing BertForSequenceClassification: ['cls.predictions.transform.dense.weight', 'cls.predictions.transform.LayerNorm.bias', 'cls.predictions.transform.LayerNorm.weight', 'cls.seq_relationship.weight', 'cls.seq_relationship.bias', 'cls.predictions.transform.dense.bias', 'cls.predictions.bias']\n",
      "- This IS expected if you are initializing BertForSequenceClassification from the checkpoint of a model trained on another task or with another architecture (e.g. initializing a BertForSequenceClassification model from a BertForPreTraining model).\n",
      "- This IS NOT expected if you are initializing BertForSequenceClassification from the checkpoint of a model that you expect to be exactly identical (initializing a BertForSequenceClassification model from a BertForSequenceClassification model).\n",
      "Some weights of BertForSequenceClassification were not initialized from the model checkpoint at bert-base-uncased and are newly initialized: ['classifier.weight', 'classifier.bias']\n",
      "You should probably TRAIN this model on a down-stream task to be able to use it for predictions and inference.\n"
     ]
    },
    {
     "name": "stdout",
     "output_type": "stream",
     "text": [
      "\n",
      "======== Epoch 1 / 2 ========\n",
      "Training...\n",
      "  Batch 2,000  of  13,500.    Elapsed: 0:12:21.\n",
      "  Batch 4,000  of  13,500.    Elapsed: 0:25:46.\n",
      "  Batch 6,000  of  13,500.    Elapsed: 0:39:10.\n",
      "  Batch 8,000  of  13,500.    Elapsed: 0:52:34.\n",
      "  Batch 10,000  of  13,500.    Elapsed: 1:05:59.\n",
      "  Batch 12,000  of  13,500.    Elapsed: 1:19:26.\n",
      "\n",
      "  Average training loss: 0.37\n",
      "  Training epoch took: 1:29:31\n",
      "\n",
      "Running Validation...\n",
      "  Accuracy: 0.89\n",
      "  Validation Loss: 0.37\n",
      "  Validation took: 0:03:16\n",
      "\n",
      "======== Epoch 2 / 2 ========\n",
      "Training...\n",
      "  Batch 2,000  of  13,500.    Elapsed: 0:13:22.\n",
      "  Batch 4,000  of  13,500.    Elapsed: 0:39:20.\n",
      "  Batch 6,000  of  13,500.    Elapsed: 1:12:43.\n",
      "  Batch 8,000  of  13,500.    Elapsed: 1:46:07.\n",
      "  Batch 10,000  of  13,500.    Elapsed: 2:19:32.\n",
      "  Batch 12,000  of  13,500.    Elapsed: 2:52:59.\n",
      "\n",
      "  Average training loss: 0.28\n",
      "  Training epoch took: 3:18:03\n",
      "\n",
      "Running Validation...\n",
      "  Accuracy: 0.90\n",
      "  Validation Loss: 0.36\n",
      "  Validation took: 0:08:32\n",
      "\n",
      "Training complete!\n",
      "Total training took 4:59:22 (h:mm:ss)\n"
     ]
    },
    {
     "data": {
      "text/html": [
       "<div>\n",
       "<style scoped>\n",
       "    .dataframe tbody tr th:only-of-type {\n",
       "        vertical-align: middle;\n",
       "    }\n",
       "\n",
       "    .dataframe tbody tr th {\n",
       "        vertical-align: top;\n",
       "    }\n",
       "\n",
       "    .dataframe thead th {\n",
       "        text-align: right;\n",
       "    }\n",
       "</style>\n",
       "<table border=\"1\" class=\"dataframe\">\n",
       "  <thead>\n",
       "    <tr style=\"text-align: right;\">\n",
       "      <th></th>\n",
       "      <th>Training Loss</th>\n",
       "      <th>Valid. Loss</th>\n",
       "      <th>Valid. Accur.</th>\n",
       "      <th>Training Time</th>\n",
       "      <th>Validation Time</th>\n",
       "    </tr>\n",
       "    <tr>\n",
       "      <th>epoch</th>\n",
       "      <th></th>\n",
       "      <th></th>\n",
       "      <th></th>\n",
       "      <th></th>\n",
       "      <th></th>\n",
       "    </tr>\n",
       "  </thead>\n",
       "  <tbody>\n",
       "    <tr>\n",
       "      <th>1</th>\n",
       "      <td>0.37</td>\n",
       "      <td>0.37</td>\n",
       "      <td>0.89</td>\n",
       "      <td>1:29:31</td>\n",
       "      <td>0:03:16</td>\n",
       "    </tr>\n",
       "    <tr>\n",
       "      <th>2</th>\n",
       "      <td>0.28</td>\n",
       "      <td>0.36</td>\n",
       "      <td>0.90</td>\n",
       "      <td>3:18:03</td>\n",
       "      <td>0:08:32</td>\n",
       "    </tr>\n",
       "  </tbody>\n",
       "</table>\n",
       "</div>"
      ],
      "text/plain": [
       "       Training Loss  Valid. Loss  Valid. Accur. Training Time Validation Time\n",
       "epoch                                                                         \n",
       "1               0.37         0.37           0.89       1:29:31         0:03:16\n",
       "2               0.28         0.36           0.90       3:18:03         0:08:32"
      ]
     },
     "execution_count": 16,
     "metadata": {},
     "output_type": "execute_result"
    }
   ],
   "source": [
    "integrity_model.train(epochs=2)"
   ]
  },
  {
   "cell_type": "code",
   "execution_count": 17,
   "id": "0796a438-6a1d-42f8-8661-82d0f1598c19",
   "metadata": {},
   "outputs": [
    {
     "data": {
      "text/plain": [
       "0.8524788777299538"
      ]
     },
     "execution_count": 17,
     "metadata": {},
     "output_type": "execute_result"
    }
   ],
   "source": [
    "integrity_model.test()"
   ]
  },
  {
   "cell_type": "code",
   "execution_count": 18,
   "id": "513e1457-d984-438e-89ce-d377596994c3",
   "metadata": {},
   "outputs": [
    {
     "name": "stdout",
     "output_type": "stream",
     "text": [
      "{'accuracy': 0.8524788777299538, 'precision': 0.8524788777299538, 'recall': 0.8524788777299538, 'f1': 0.8524788777299538, 'mcc': 0.7723117340386622, 'cm': array([[ 7325,   158,  1305],\n",
      "       [  235,  6439,  1850],\n",
      "       [  666,   413, 12974]])}\n"
     ]
    }
   ],
   "source": [
    "print(integrity_model.getClassificationStats())"
   ]
  },
  {
   "cell_type": "code",
   "execution_count": 19,
   "id": "1302395d-10f2-4e1e-9654-3e4d78a6c2d5",
   "metadata": {},
   "outputs": [],
   "source": [
    "integrity_model.saveModel()\n",
    "integrity_model.savePredictions()"
   ]
  },
  {
   "cell_type": "markdown",
   "id": "b6996a08-1dc5-4832-a297-ec51ac2997b6",
   "metadata": {},
   "source": [
    "### Push Model to huggingface hub"
   ]
  },
  {
   "cell_type": "code",
   "execution_count": 20,
   "id": "f78793cb-3fef-41e9-8215-dddb809d3a33",
   "metadata": {},
   "outputs": [],
   "source": [
    "from huggingface_hub import notebook_login"
   ]
  },
  {
   "cell_type": "code",
   "execution_count": 21,
   "id": "1d1849bc-cb51-4eb2-b5cd-61e0f3cf4cbe",
   "metadata": {},
   "outputs": [
    {
     "data": {
      "application/vnd.jupyter.widget-view+json": {
       "model_id": "40d6d1d85770475f9baf8a003b4f433a",
       "version_major": 2,
       "version_minor": 0
      },
      "text/plain": [
       "VBox(children=(HTML(value='<center> <img\\nsrc=https://huggingface.co/front/assets/huggingface_logo-noborder.sv…"
      ]
     },
     "metadata": {},
     "output_type": "display_data"
    }
   ],
   "source": [
    "notebook_login()"
   ]
  },
  {
   "cell_type": "code",
   "execution_count": 22,
   "id": "ef1bdba9-b8c8-4d67-8e7e-73f3055b2410",
   "metadata": {},
   "outputs": [],
   "source": [
    "from transformers import BertForSequenceClassification"
   ]
  },
  {
   "cell_type": "code",
   "execution_count": 23,
   "id": "90ecc599-f56f-44cf-a7e4-e0e25bbf4375",
   "metadata": {},
   "outputs": [],
   "source": [
    "integrity_model = BertForSequenceClassification.from_pretrained(\"./integrity_model/\")"
   ]
  },
  {
   "cell_type": "code",
   "execution_count": 24,
   "id": "d3e74fe6-0b81-489f-bb61-504235e342db",
   "metadata": {},
   "outputs": [
    {
     "data": {
      "application/vnd.jupyter.widget-view+json": {
       "model_id": "a567816c174243498745c9fdf24ac76c",
       "version_major": 2,
       "version_minor": 0
      },
      "text/plain": [
       "pytorch_model.bin:   0%|          | 0.00/438M [00:00<?, ?B/s]"
      ]
     },
     "metadata": {},
     "output_type": "display_data"
    },
    {
     "data": {
      "text/plain": [
       "CommitInfo(commit_url='https://huggingface.co/Vijaybhk/Integrity-BERT/commit/858e6aeeddb3f2f5897b955881b3a591f6354cee', commit_message='Upload BertForSequenceClassification', commit_description='', oid='858e6aeeddb3f2f5897b955881b3a591f6354cee', pr_url=None, pr_revision=None, pr_num=None)"
      ]
     },
     "execution_count": 24,
     "metadata": {},
     "output_type": "execute_result"
    }
   ],
   "source": [
    "integrity_model.push_to_hub(\"Vijaybhk/Integrity-BERT\")"
   ]
  }
 ],
 "metadata": {
  "kernelspec": {
   "display_name": "Python 3 (ipykernel)",
   "language": "python",
   "name": "python3"
  },
  "language_info": {
   "codemirror_mode": {
    "name": "ipython",
    "version": 3
   },
   "file_extension": ".py",
   "mimetype": "text/x-python",
   "name": "python",
   "nbconvert_exporter": "python",
   "pygments_lexer": "ipython3",
   "version": "3.11.5"
  }
 },
 "nbformat": 4,
 "nbformat_minor": 5
}
